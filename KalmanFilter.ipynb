{
 "cells": [
  {
   "cell_type": "markdown",
   "metadata": {},
   "source": [
    "# A Basic Intro"
   ]
  },
  {
   "cell_type": "markdown",
   "metadata": {},
   "source": [
    "We are going to start with the most naieve and simpliest approach and build forward.  Also to make this easier we are going to start with the scalar case."
   ]
  },
  {
   "cell_type": "markdown",
   "metadata": {},
   "source": [
    "Version 1.0\n",
    "Status content: review through simple 1-d problem\n",
    "Status performance: all sections are in working condition"
   ]
  },
  {
   "cell_type": "markdown",
   "metadata": {},
   "source": [
    "## We will start with a simple 1-d problem"
   ]
  },
  {
   "cell_type": "markdown",
   "metadata": {},
   "source": [
    "### Our System"
   ]
  },
  {
   "cell_type": "markdown",
   "metadata": {},
   "source": [
    "Our task is to be able to estimate the displacement, velocity, and acceleration of an object.  Sometimes we will choise to estimate only one sometimes we will choise to estimate all three.\n",
    "\n",
    "\n",
    "We will start with some conventional variables you'd use in the scalar case and we will generalize it out to the non-scalar case later.  We also aren't going to worry about the translation from a continiuous time system to a discrete time system, that is another topic entirely, we also won't initially care about what the mass is.  We also start with everyting being equal, which makes coming up with intuitive solutions to the problem.  The Kalman filter will generalize it to the case where everything is not equal. \n",
    "\n",
    "Note the one exception to our variable naming convention is the noise,  a basic physics or mechanics class wouldn't include it and so we will use variables that are compatible with one version of the Kalman filter\n",
    "\n",
    "* $a_k$ = acceleration at time k\n",
    "* $v_k$ = velocity at time k\n",
    "* $d_k$ = displacement at time k\n",
    "* $u_k$ = the input at time k\n",
    "* $\\hat *_k$ = measured value of that variable at time k, e.g. $\\hat x_k$ would be our measured displacement\n",
    "* $q_k$ = zero mean random variable representing process noise (modeling error) with covariance $Q$\n",
    "* $r_k$ = zero mean random variable representing observatioin noise (measurement error) with covaraince R$ \n",
    "\n",
    "\n",
    "There are three obvious models for our system\n",
    "\n",
    "* $a_k = u_k$\n",
    "* $v_k = v_{k-1} + a_k$ \n",
    "* $d_k = d_{k-1} + v_k$ "
   ]
  },
  {
   "cell_type": "markdown",
   "metadata": {},
   "source": [
    "### The measurement model"
   ]
  },
  {
   "cell_type": "markdown",
   "metadata": {},
   "source": [
    "We will start with a trivial observation model, we add m to the subscript to indicate it is a measured quantity\n",
    "\n",
    "* $a_{mk} = a_k + r_k$\n",
    "* $v_{mk} = v_k + r_k$\n",
    "* $d_{mk} = d_k + r_k$\n"
   ]
  },
  {
   "cell_type": "markdown",
   "metadata": {},
   "source": [
    "### Modeling Errors"
   ]
  },
  {
   "cell_type": "markdown",
   "metadata": {},
   "source": [
    "We also would like to be able to account for the fact that our model might not be exactly correct.  We might know the mass, the assumption that there is no friction may be wrong, etc."
   ]
  },
  {
   "cell_type": "markdown",
   "metadata": {},
   "source": [
    "* $a_k = u_k + q_k$\n",
    "* $v_k = v_{k-1} + a_k + q_k$ \n",
    "* $d_k = d_{k-1} + v_k + q_k$ "
   ]
  },
  {
   "cell_type": "markdown",
   "metadata": {},
   "source": [
    "#### The Most Basic Problem Estimate Acceleration In The No Noise No Modeling Error Case"
   ]
  },
  {
   "cell_type": "markdown",
   "metadata": {},
   "source": [
    "we could now estimate accleration with either of two equations \n",
    "* $a_{mk} = a_k + r_k$\n",
    "* $a_k = u_k + q_k$\n",
    "\n",
    "In the case of no measurement error $r_k=0$ and $q_k=0$ and no modeling errors these reduce to\n",
    "* $a_{mk} = a_k$\n",
    "* $a_k = u_k$\n"
   ]
  },
  {
   "cell_type": "markdown",
   "metadata": {},
   "source": [
    "It should be clear that we now have the mathematically awkward, but practically ideal situation where have two optimal estimates.  Also note they are clearly optimal under any metric, since the estimate is always EXACTLY correct"
   ]
  },
  {
   "cell_type": "markdown",
   "metadata": {},
   "source": [
    "#### Only measurement or modeling error"
   ]
  },
  {
   "cell_type": "markdown",
   "metadata": {},
   "source": [
    "If we have only measurement error $r_k$ but still no modeling error $q_k=0$ it should be clear that we now do have a best choice, and thus a single optimal choice\n",
    "\n",
    "* $\\hat a_k = u_k$\n",
    "\n",
    "Conversely if we have only modeling $q_k$ error and no measurement error $r_k$ we also have a single optimal choice\n",
    "\n",
    "* $\\hat a_k = a_{mk}$\n",
    "\n",
    "Again these are still clearly optimal under any metric as they are exactly the same as the quantity we are estimating."
   ]
  },
  {
   "cell_type": "markdown",
   "metadata": {},
   "source": [
    "#### Measurement and modeling error"
   ]
  },
  {
   "cell_type": "markdown",
   "metadata": {},
   "source": [
    "if systems with no measurement error and no modeling error were common engineering and experimental physics would both be trivial. Clearly, for real systems we shoudl expect both."
   ]
  },
  {
   "cell_type": "markdown",
   "metadata": {},
   "source": [
    "* $a_{mk} = a_k + r_k$\n",
    "* $a_k = u_k + q_k$"
   ]
  },
  {
   "cell_type": "markdown",
   "metadata": {},
   "source": [
    "With this case we want to ask what is the optimal estimate, seems like it should be some combination of the two estimates weighted by their relative noise."
   ]
  },
  {
   "cell_type": "markdown",
   "metadata": {},
   "source": [
    "The most obvious model to propose is \n",
    "* $\\hat a_k = \\frac{q}{q+r} a_{mk} + \\frac{r}{q+r} u_k$\n",
    "\n",
    "With \n",
    "* no observation noise r = 0 this becomes $u_k$ \n",
    "* no modeling error q = 0 this becomes $a_{mk}$ \n",
    "* r = q this becomes $\\frac{1}{2} a_{mk} + \\frac{1}{2} u_k$\n"
   ]
  },
  {
   "cell_type": "markdown",
   "metadata": {},
   "source": [
    "Now let's grind through the math of the Kalman filter and see what we get we will follow the version on Wiki\n",
    "https://en.wikipedia.org/wiki/Kalman_filter"
   ]
  },
  {
   "cell_type": "markdown",
   "metadata": {},
   "source": [
    "From Wiki, note this is matrix notation for now we won't worry about that and will just reduce everything to scalars \n",
    "We refer to the general form as Kalman and the equantions reduced to match our system as specalized\n",
    "\n",
    "Note we aren't going to worry about the derivation just equivalence between the Kalman filter and our system and some intuition\n",
    "\n",
    "\n",
    "* System Model Equivalence Between Our Form and Kalman\n",
    "* $x_k = F_k x_{k-1} + B_k u_k + w_k$\n",
    "* note $w_k=\\mathcal{N}(0,\\,Q)$\n",
    "* Our system\n",
    "* $a_k = u_k + q_k$\n",
    "* Equivalences\n",
    "* $F_k = 0 $ this means there are no dynamics the state is instanteniously equal to the input\n",
    "* $B_k = 1 $ the state is equal to the input\n",
    "* $w_k = q_k$ scalar normal random variable with zero mean and variance Q\n",
    "* Measurement Model\n",
    "* $z_k = H_k x_k + v_k$\n",
    "* note $v_k=\\mathcal{N}(0,\\,R)$\n",
    "* Our measurement\n",
    "* $a_{mk} = a_k + r_k$\n",
    "* note here we will switch from our notation to the Kalman notation for the rest of this section we will use $z_k$ not $a_{mk}$\n",
    "* Equivalences\n",
    "* $H_k = 1 $ we observe the state itself (no scaling)\n",
    "* $v_k = r_k$ scalar normal random varianble with zero mean and variance R\n",
    "* Since our example is scalar and H is unity the difference between state space and measurement space isn't clear.  However, in general (with more than one state ) one can imagine that the states and measurements may have different dimensions, orderings, etc.  Thus, the two spaces will be different.  We note the two spaces below to help motivate the terms.\n",
    "\n",
    "* Now we just grind through the Kalman Filter\n",
    "* We are in the state space (clear because we are estimating states)\n",
    "* Predicted (a priori) state estimate -- using model of system and past value \n",
    "* You can think of this as the best guess of what the state will be based on knowledge of the input $u$ and our system model $F$ and $B$\n",
    "* Kalman $\\hat x(k)_{k|k-1} = F_k \\hat x(k)_{k-1|k-1} + B_Ku_k$\n",
    "* Specalized $\\hat x(k)_{k|k-1} = u_k$ \n",
    "\n",
    "\n",
    "* Predicted (a priori) estimate of covariance -- using model of system and expected measurement noise\n",
    "* We are in the state space, clear because $Q_k$ is in the state space\n",
    "* You can think of this as the estimated covariance given our modeling noise $Q$ and system dynamics $F$\n",
    "* Kalman $P_{k|k−1}=F_kP_{k|k−1}F^T_k+Q_k$\n",
    "* Noting that $F=0$ as derived in the system equivalnet\n",
    "* Specalized $P_{k|k−1}=Q_k$\n",
    "\n",
    "\n",
    "* Innovation or measurement pre-fit residual\n",
    "\n",
    "* This is where we measure how close our prediction is to the actual measurement, where $H_k$ tells us how the states map to the measurements\n",
    "* Kalman    $\\tilde y_k = z_k - H_k \\hat x_{k|k-1}$\n",
    "* Noting that $H$ = 1 as derived in the system equivalent\n",
    "* Recall that we are also using $z_k$ not $a_{mk}$ \n",
    "* Specalized $\\tilde y_k = z_k -\\hat x_{k|k-1} = z_k - u_k$\n",
    "\n",
    "\n",
    "* Innovation or measurement pre fit covariance\n",
    "* You can think of this as our modeled error (a priori) plus  error translated through the $H_k$ plus the measurement error in the measurement space $R_k$\n",
    "* We are in the measurement space, this is clear by the fact that we are adding $R_k$\n",
    "* Kalman $S_k=H_kP_{k|k−1}H^T_k+R_k$\n",
    "* Noting that $H$ = 1 as derived in the system equivalent\n",
    "* Specalized $S_k=P_{k|k−1}+R_k =Q_k+R_k$\n",
    "\n",
    "\n",
    "* Optimal Kalman Gain\n",
    "* Now we want to end up back in State space here so that is why we have $H^T_k$ before $S$ to translate S back to state space\n",
    "* This can then be thought of as two terms $P_k$ our modeling error and $S_k$ our total error including measurement error with $H^T$ mapping this back to the state space\n",
    "* Kalman $K_k = P_{k|k-1} H^T_k S^{-1}_k$\n",
    "* Noting that $H$ = 1 as derived in the system equivalent\n",
    "* Specalized $K_k = P_{k|k-1}  S^{-1}_k = Q_k  (Q_k + R_k)^{-1}$\n",
    "\n",
    "\n",
    "* Updated (a posteriori) state estimate\n",
    "* Kalman $x_{k|k} = \\hat x_{k|k} + K_k* \\tilde y_k$\n",
    "* Specalized $x_{k|k} = u_k + \\frac{Q_k}{Q_k + R_k} * (z_k - u_k)$\n",
    "\n"
   ]
  },
  {
   "cell_type": "markdown",
   "metadata": {},
   "source": [
    "So an obvious quesiton is is this the same as our intuitive model?\n",
    "* Kalman Specalized $x_{k|k} = u_k + \\frac{Q_k}{Q_k + R_k} * (z_k - u_k)$\n",
    "* Intuitive $\\hat a_k = \\frac{q}{q+r} a_{mk} + \\frac{r}{q+r} u_k$\n",
    "\n",
    "If we simply add and subtract $\\frac{q}{q+r}u$ we get\n",
    "* $\\hat a_k = \\frac{q}{q+r} a_{mk} + \\frac{r}{q+r} u_k + \\frac{q}{q+r}u - \\frac{q}{q+r}u$\n",
    "* $=\\frac{q}{q+r} a_{mk} - \\frac{q}{q+r}u + \\frac{r}{q+r} u_k + \\frac{q}{q+r}u $\n",
    "* $=\\frac{q}{q+r} (a_{mk} - u) + u_k  $\n",
    "\n",
    "So as one might expect they are equal."
   ]
  },
  {
   "cell_type": "markdown",
   "metadata": {},
   "source": [
    "This may seem like an unsatisfying answer, since we had a ton of mathematical structure in the Kalman filter and it all came down to a simple solution.  This however is the wrong way to think about it.  Instead, it's great that our intuition matches the Kalman filter and we have an idea about what each term does.  \n",
    "\n",
    "Further, if we look at simplicication $H$ being identity is not too bad.   While we often don't get to measure all the states it isn't a crazy assumption.\n",
    "\n",
    "However, we should note that $F$ being zero is a pretty sever assumption and indeed why you would want a Kalman filter.  \n",
    "\n",
    "It is also interesting to think about different optimality criterion.  Let's assume that bosth the measurement and process noise are high, but the known input $u$ is always zero.  The Kalman filter will still be the optimal instantenious estimate of the state however, if we want the best steady state value it's clear that we rather have an additional filter on the values."
   ]
  },
  {
   "cell_type": "markdown",
   "metadata": {},
   "source": [
    "# The exercise ends here.  My next steps are\n",
    "1. Put in a simulation for the case mentioned above\n",
    "2. Work through an example with dynamics\n",
    "Note the rest of the sheet is somewhat unstructured.  Thought the code for a Kalman filter works fine."
   ]
  },
  {
   "cell_type": "code",
   "execution_count": null,
   "metadata": {},
   "outputs": [],
   "source": [
    "* Specalized $x_{k|k} = u_k + \\frac{Q_k}{Q_k + R_k} * (z_k - u_k)$"
   ]
  },
  {
   "cell_type": "code",
   "execution_count": null,
   "metadata": {},
   "outputs": [],
   "source": []
  },
  {
   "cell_type": "markdown",
   "metadata": {},
   "source": [
    "\n",
    "* If we take R=0 then this reduces to \n",
    "* Specalized $x_{k|k} = u_k + 1 * (z_k - u_k) = z_k$\n",
    "* If we take R>0 and Q=0\n",
    "* Specalized $x_{k|k} = u_k + 1 * (z_k - u_k) = u_k$\n",
    "\n",
    "\n"
   ]
  },
  {
   "cell_type": "markdown",
   "metadata": {},
   "source": [
    "Next step put in some modeling dynamics"
   ]
  },
  {
   "cell_type": "markdown",
   "metadata": {},
   "source": [
    "\n",
    "### A Basic Model"
   ]
  },
  {
   "cell_type": "markdown",
   "metadata": {},
   "source": [
    "Some general notes\n",
    "--The naming conventions in this worksheet are NOT recommended for general work.  Worksheets, particularly worksheets to be shared have the high risk of accidentally using a global variable when a local variable was intended.  This is particularly true because the generic namespace is the global name space.  I would NOT recommend following this convention in any conventional programming.\n",
    "--Obviously this is python and it's libraries, if you aren't familiar with them don't worry you can just ignore the programming steps and follow along with the description\n",
    "--The markdown uses Latex, if you are familiar great, if not I wouldn't worry too much about learning it.  Latex has a sort of steep entry curve"
   ]
  },
  {
   "cell_type": "markdown",
   "metadata": {},
   "source": [
    "We start with the most basic system\n",
    "--Robot on a plane\n",
    "--Linear dynamics\n",
    "--No noise\n",
    "--Trivial coordinates\n"
   ]
  },
  {
   "cell_type": "markdown",
   "metadata": {},
   "source": [
    "Our dynamics are \n",
    "Standard dynamics are:\n",
    "\n",
    "$ x_{k} = A_k x_{k-1} + B_ku_k + w_k$\n",
    "\n",
    "\n",
    "Note some other letters are $A, B = F, G$ and $w = r$\n",
    "\n",
    "\n",
    "\n",
    "We then observe the state with\n",
    "\n",
    "$ z_k = C_kx_k + v_k $\n",
    "\n",
    "\n",
    "Note some alternative letters for $H = C$ and $q = v$.  The \"hat\" notation is pretty standard for estimate.\n",
    "\n",
    "\n",
    "$\\hat x(k)_{k|k-1} = F_k \\hat x(k)_{k-1|k-1} + B_Ku_k$\n",
    "\n",
    "or\n",
    "\n",
    "$\\hat x(k)_{k|k-1} = A_k \\hat x(k)_{k-1|k-1} + B_Ku_k$\n",
    "\n",
    "\n",
    "\n"
   ]
  },
  {
   "cell_type": "markdown",
   "metadata": {},
   "source": [
    "Now we run into a classic problem we want to do symbolic math not numeric.  Maple or Mathematic would be a better place to do this but I think we will be able to get by in Python, let's find out.\n",
    "https://paulpotgieter.org/2020/10/30/solving-symbolic-matrix-equations-in-python-with-sympy/\n",
    "http://scipy-lectures.org/packages/sympy.html"
   ]
  },
  {
   "cell_type": "code",
   "execution_count": 19,
   "metadata": {},
   "outputs": [],
   "source": [
    "import numpy as np\n",
    "import sympy as sym\n",
    "import random\n",
    "from scipy import linalg"
   ]
  },
  {
   "cell_type": "markdown",
   "metadata": {},
   "source": [
    "## Define model without noise"
   ]
  },
  {
   "cell_type": "markdown",
   "metadata": {},
   "source": [
    "We are defining the simpliest discrete time model.  There are two independent states, two independent controls, and two independent observations.  In discrete time this drives a model that is mostly just identity matricies"
   ]
  },
  {
   "cell_type": "markdown",
   "metadata": {},
   "source": [
    "$Ax$\n",
    "\n",
    "Define the dynamics, how state evolves based on past state (the homogenious part of a differential equation)\n",
    "\n",
    "$A = \\begin{matrix} 1 & 0 \\\\ 0 & 1 \\end{matrix}$"
   ]
  },
  {
   "cell_type": "code",
   "execution_count": 5,
   "metadata": {},
   "outputs": [
    {
     "data": {
      "text/plain": [
       "Matrix([\n",
       "[x],\n",
       "[y]])"
      ]
     },
     "execution_count": 5,
     "metadata": {},
     "output_type": "execute_result"
    }
   ],
   "source": [
    "gA = sym.Matrix([[1, 0], [0, 1]])\n",
    "gx, gy = sym.symbols('x, y')\n",
    "gX = sym.Matrix([[gx], [gy]])\n",
    "gA*gX"
   ]
  },
  {
   "cell_type": "markdown",
   "metadata": {},
   "source": [
    "$Bu$\n",
    "\n",
    "$B = \\begin{matrix} 1 & 0 \\\\ 0 & 1 \\end{matrix}$\n",
    "\n",
    "Define how the state evolves based on the input"
   ]
  },
  {
   "cell_type": "code",
   "execution_count": 8,
   "metadata": {},
   "outputs": [
    {
     "data": {
      "text/plain": [
       "Matrix([\n",
       "[ux],\n",
       "[uy]])"
      ]
     },
     "execution_count": 8,
     "metadata": {},
     "output_type": "execute_result"
    }
   ],
   "source": [
    "gB = sym.Matrix([[1, 0], [0, 1]])\n",
    "gux, guy = sym.symbols('ux, uy')\n",
    "gU = sym.Matrix([[gux], [guy]])\n",
    "gB*gU"
   ]
  },
  {
   "cell_type": "markdown",
   "metadata": {},
   "source": [
    "$z_k = C_k x_k $\n",
    "\n",
    "$C = \\begin{matrix} 1 & 0 \\\\ 0 & 1 \\end{matrix}$\n",
    "\n",
    "Define the observation model"
   ]
  },
  {
   "cell_type": "code",
   "execution_count": 9,
   "metadata": {},
   "outputs": [
    {
     "data": {
      "text/plain": [
       "Matrix([\n",
       "[ux + x],\n",
       "[uy + y]])"
      ]
     },
     "execution_count": 9,
     "metadata": {},
     "output_type": "execute_result"
    }
   ],
   "source": [
    "gC = sym.Matrix([[1, 0], [0, 1]])\n",
    "gC*(gA*gX+gB*gU)"
   ]
  },
  {
   "cell_type": "markdown",
   "metadata": {},
   "source": [
    "Test this out, note this appears to print in alphabetic order which is kind of a bummer but oh well\n",
    "What this says is the the observation is exactly the state, not surprising in this trivial example"
   ]
  },
  {
   "cell_type": "markdown",
   "metadata": {},
   "source": [
    "## Adding Noise"
   ]
  },
  {
   "cell_type": "markdown",
   "metadata": {},
   "source": [
    "Define the R matrix, this is our assumed noise model for the dynamics"
   ]
  },
  {
   "cell_type": "code",
   "execution_count": 15,
   "metadata": {},
   "outputs": [
    {
     "data": {
      "text/plain": [
       "Matrix([\n",
       "[rx,  0],\n",
       "[ 0, ry]])"
      ]
     },
     "execution_count": 15,
     "metadata": {},
     "output_type": "execute_result"
    }
   ],
   "source": [
    "grx, gry = sym.symbols('rx, ry')\n",
    "gR = sym.Matrix([[grx, 0], [0, gry]])\n",
    "gR"
   ]
  },
  {
   "cell_type": "markdown",
   "metadata": {},
   "source": [
    "Define the Q matrix, this is our assumed noise model for the measurements"
   ]
  },
  {
   "cell_type": "code",
   "execution_count": 14,
   "metadata": {},
   "outputs": [
    {
     "data": {
      "text/plain": [
       "Matrix([\n",
       "[qx,  0],\n",
       "[ 0, qy]])"
      ]
     },
     "execution_count": 14,
     "metadata": {},
     "output_type": "execute_result"
    }
   ],
   "source": [
    "gqx, gqy = sym.symbols('qx, qy')\n",
    "gQ = sym.Matrix([[gqx, 0], [0, gqy]])\n",
    "gQ"
   ]
  },
  {
   "cell_type": "markdown",
   "metadata": {},
   "source": [
    "Define the specific noise models\n",
    "--start with noise free\n"
   ]
  },
  {
   "cell_type": "code",
   "execution_count": 10,
   "metadata": {},
   "outputs": [
    {
     "data": {
      "text/plain": [
       "Matrix([\n",
       "[0, 0],\n",
       "[0, 0]])"
      ]
     },
     "execution_count": 10,
     "metadata": {},
     "output_type": "execute_result"
    }
   ],
   "source": [
    "gQn = gQ.subs('qx', 0).subs('qy', 0)\n",
    "gRn = gR.subs('rx', 0).subs('ry', 0)\n",
    "gQn"
   ]
  },
  {
   "cell_type": "markdown",
   "metadata": {},
   "source": [
    "## DEFINE THE KALMAN FILTER"
   ]
  },
  {
   "cell_type": "markdown",
   "metadata": {},
   "source": [
    "Define the Sigma Matrix, this keeps track of the variance"
   ]
  },
  {
   "cell_type": "code",
   "execution_count": 10,
   "metadata": {},
   "outputs": [
    {
     "data": {
      "text/plain": [
       "Matrix([\n",
       "[sx,  0],\n",
       "[ 0, sy]])"
      ]
     },
     "execution_count": 10,
     "metadata": {},
     "output_type": "execute_result"
    }
   ],
   "source": [
    "gsx, gsy = sym.symbols('sx, sy')\n",
    "gSigma = sym.Matrix([[gsx, 0], [0, gsy]])\n",
    "gSigma"
   ]
  },
  {
   "cell_type": "markdown",
   "metadata": {},
   "source": [
    "Initial State Estimate\n",
    "\n",
    "$x = \\begin{matrix} 0 \\\\ 0 \\end{matrix}$"
   ]
  },
  {
   "cell_type": "code",
   "execution_count": 11,
   "metadata": {},
   "outputs": [],
   "source": [
    "gX = sym.Matrix([[0], [0]])"
   ]
  },
  {
   "cell_type": "markdown",
   "metadata": {},
   "source": [
    "Kalman Loop (note .T is transpose)"
   ]
  },
  {
   "cell_type": "markdown",
   "metadata": {},
   "source": [
    "### Compute Predicted X  (predicted a priori state estimte)\n"
   ]
  },
  {
   "cell_type": "markdown",
   "metadata": {},
   "source": [
    "$\\hat x(k)_{k|k-1} = F_k \\hat x(k)_{k-1|k-1} + B_Ku_k$\n",
    "\n",
    "$\\hat x(k)_{k|k-1} = A_k \\hat x(k)_{k-1|k-1} + B_Ku_k$\n",
    "\n",
    "Note that the exact discrete time indicies may vary depending on formulation but it should take the form of current x is A* past x + B * current input\n",
    "\n",
    "As expected since our initial state was 0, 0 this is just the inputs"
   ]
  },
  {
   "cell_type": "code",
   "execution_count": 16,
   "metadata": {},
   "outputs": [
    {
     "data": {
      "text/plain": [
       "Matrix([\n",
       "[ux],\n",
       "[uy]])"
      ]
     },
     "execution_count": 16,
     "metadata": {},
     "output_type": "execute_result"
    }
   ],
   "source": [
    "   gX_pred = gA*gX + gB*gU\n",
    "   gX_pred"
   ]
  },
  {
   "cell_type": "markdown",
   "metadata": {},
   "source": [
    "### Compute Predicted P covariance\n",
    "\n",
    "$P_{k|k-1} = F_k P_{k|k-1} F^T_k +Q_k$\n",
    "\n",
    "or\n",
    "\n",
    "$\\Sigma_{k|k-1} = A_k \\Sigma_{k|k-1} A^T_k +Q_k$\n",
    "\n"
   ]
  },
  {
   "cell_type": "code",
   "execution_count": 17,
   "metadata": {},
   "outputs": [
    {
     "data": {
      "text/plain": [
       "Matrix([\n",
       "[rx + sx,       0],\n",
       "[      0, ry + sy]])"
      ]
     },
     "execution_count": 17,
     "metadata": {},
     "output_type": "execute_result"
    }
   ],
   "source": [
    "  gSigma_Step_1s = gA*gSigma*gA.T+gR\n",
    "  gSigma_Step_1s\n",
    "  "
   ]
  },
  {
   "cell_type": "markdown",
   "metadata": {},
   "source": [
    "### Innovation or pre-fit residual\n",
    "\n",
    "$S_k = H_k P_{k|k-1} H^T_k + R_k$\n",
    "\n",
    "or \n",
    "\n",
    "$\\Sigma_{k} = C_k \\Sigma_{k|k-1} C^T_k + R_k$"
   ]
  },
  {
   "cell_type": "code",
   "execution_count": 18,
   "metadata": {},
   "outputs": [
    {
     "data": {
      "text/plain": [
       "Matrix([\n",
       "[sx,  0],\n",
       "[ 0, sy]])"
      ]
     },
     "execution_count": 18,
     "metadata": {},
     "output_type": "execute_result"
    }
   ],
   "source": [
    "  \n",
    "gSigma_Step_1n = gA*gSigma*gA.T+gRn\n",
    "gSigma_Step_1n"
   ]
  },
  {
   "cell_type": "markdown",
   "metadata": {},
   "source": [
    "### Compute The Kalman Gain\n",
    "\n",
    "$K_k = P_{k|k-1} H^T_k P^{-1}_k$\n",
    "\n",
    "$K_k = \\Sigma_{k|k-1} C^T_k \\Sigma^{-1}_k$\n"
   ]
  },
  {
   "cell_type": "code",
   "execution_count": 20,
   "metadata": {},
   "outputs": [
    {
     "data": {
      "text/plain": [
       "Matrix([\n",
       "[(rx + sx)/(qx + rx + sx),                        0],\n",
       "[                       0, (ry + sy)/(qy + ry + sy)]])"
      ]
     },
     "execution_count": 20,
     "metadata": {},
     "output_type": "execute_result"
    }
   ],
   "source": [
    "  gKs = gSigma_Step_1s * gC.T * (gC*gSigma_Step_1s*gC.T + gQ).inv()\n",
    "  gKs"
   ]
  },
  {
   "cell_type": "markdown",
   "metadata": {},
   "source": [
    "--Compute Kalman Gain, weighting between model and measurements for our specific case\n"
   ]
  },
  {
   "cell_type": "code",
   "execution_count": 22,
   "metadata": {},
   "outputs": [
    {
     "data": {
      "text/plain": [
       "Matrix([\n",
       "[1, 0],\n",
       "[0, 1]])"
      ]
     },
     "execution_count": 22,
     "metadata": {},
     "output_type": "execute_result"
    }
   ],
   "source": [
    "  gKn = gSigma_Step_1n * gC.T * (gC*gSigma_Step_1n*gC.T + gQn).inv()\n",
    "  gKn"
   ]
  },
  {
   "cell_type": "markdown",
   "metadata": {},
   "source": [
    "  Actually in this case any Kalman gain is as good as any other one"
   ]
  },
  {
   "cell_type": "markdown",
   "metadata": {},
   "source": [
    "  Compute X based on the measurement, Kalman gain, and predection"
   ]
  },
  {
   "cell_type": "markdown",
   "metadata": {},
   "source": [
    "  Create an observation, based on our noise model"
   ]
  },
  {
   "cell_type": "code",
   "execution_count": 23,
   "metadata": {},
   "outputs": [
    {
     "data": {
      "text/plain": [
       "Matrix([\n",
       "[0],\n",
       "[0]])"
      ]
     },
     "execution_count": 23,
     "metadata": {},
     "output_type": "execute_result"
    }
   ],
   "source": [
    "  gZ = gC*gX+gQn*sym.Matrix([[1], [1]])\n",
    "  gZ"
   ]
  },
  {
   "cell_type": "markdown",
   "metadata": {},
   "source": [
    "  Update the filtered value of X"
   ]
  },
  {
   "cell_type": "code",
   "execution_count": 24,
   "metadata": {},
   "outputs": [
    {
     "data": {
      "text/plain": [
       "Matrix([\n",
       "[0],\n",
       "[0]])"
      ]
     },
     "execution_count": 24,
     "metadata": {},
     "output_type": "execute_result"
    }
   ],
   "source": [
    "  gX_filt = gX_pred + gKn * (gZ - gC*gX_pred)\n",
    "  gX_filt"
   ]
  },
  {
   "cell_type": "markdown",
   "metadata": {},
   "source": [
    "  Update the value of the Kalman Filter"
   ]
  },
  {
   "cell_type": "code",
   "execution_count": 25,
   "metadata": {},
   "outputs": [
    {
     "data": {
      "text/plain": [
       "Matrix([\n",
       "[0, 0],\n",
       "[0, 0]])"
      ]
     },
     "execution_count": 25,
     "metadata": {},
     "output_type": "execute_result"
    }
   ],
   "source": [
    "  gSigma_Finaln = (sym.Matrix.eye(2)-gKn*gC)*gSigma_Step_1n\n",
    "  gSigma_Finaln\n"
   ]
  },
  {
   "cell_type": "markdown",
   "metadata": {},
   "source": [
    "Note we now have a zero matrix"
   ]
  },
  {
   "cell_type": "markdown",
   "metadata": {},
   "source": [
    "Let's make this more computable we will define a class"
   ]
  },
  {
   "cell_type": "code",
   "execution_count": 26,
   "metadata": {},
   "outputs": [
    {
     "data": {
      "text/plain": [
       "Matrix([\n",
       "[rx,  0],\n",
       "[ 0, ry]])"
      ]
     },
     "execution_count": 26,
     "metadata": {},
     "output_type": "execute_result"
    }
   ],
   "source": [
    "gR"
   ]
  },
  {
   "cell_type": "markdown",
   "metadata": {},
   "source": [
    "Define some functions so we can do this itteratively"
   ]
  },
  {
   "cell_type": "code",
   "execution_count": 72,
   "metadata": {},
   "outputs": [],
   "source": [
    "#Repeated imports if you execute this block first\n",
    "import numpy as np\n",
    "import sympy as sym\n",
    "import random\n",
    "from scipy import linalg\n",
    "\n",
    "#Utility fcn\n",
    "def print_matrix(lcl_header_str, lcl_matrix):\n",
    "    lcl_matrix =  np.matrix(lcl_matrix).astype(np.float64)\n",
    "    lcl_outmtrx = str(lcl_matrix)\n",
    "    lcl_blanks = \" \"*len(lcl_header_str)\n",
    "    lcl_outmtrx = lcl_outmtrx.replace('\\n','\\n'+lcl_blanks)\n",
    "    #outmtrx.replace('\\n','\\n'+blanks)\n",
    "    print(lcl_header_str, lcl_outmtrx)\n",
    "\n",
    "#Also repeat some definitions to make things more free standing\n",
    "gDef_Noise = 0.01\n",
    "\n",
    "#Since workbooks invite global variables we will use pedantic in function naming convention of lcl_ for local variables to avoid any\n",
    "#accidental collision with globals\n",
    "\n",
    "class Dynamic_System:\n",
    "    #For now no looping in this level\n",
    "    def __init__(self, lcl_X_init, lcl_A, lcl_B, lcl_R, lcl_C, lcl_Q, lcl_verbose=0):\n",
    "        #Initial state\n",
    "        self.X = lcl_X_init\n",
    "        #State transition\n",
    "        self.A = lcl_A\n",
    "        #Inputs\n",
    "        self.B = lcl_B\n",
    "        #Noise on dynamics\n",
    "        self.R = lcl_R\n",
    "        #Observation model\n",
    "        self.C = lcl_C\n",
    "        #Noise on observation\n",
    "        self.Q = lcl_Q\n",
    "        #Make random numbers repeatible\n",
    "        self.flatten = sym.Matrix.ones(self.Q.shape[0],1)\n",
    "        self.verbose = lcl_verbose\n",
    "        print(self.flatten.shape)\n",
    "        random.seed(0)\n",
    "    def calc_cov(self, lcl_Cov):\n",
    "        #In terms of std not variance\n",
    "        #return (random.gauss(0*lcl_Cov,lcl_Cov*lcl_Cov)*self.flatten)\n",
    "        lcl_Std = linalg.sqrtm(lcl_Cov)\n",
    "        return (random.gauss(0*lcl_Std,lcl_Std)*self.flatten)\n",
    "        \n",
    "    def get_model(self):\n",
    "        return(self.A, self.B, self.R, self.C, self.Q)\n",
    "    def get_dynamics(self):\n",
    "        return(self.A, self.B, self.C)\n",
    "    def dynamics(self, lcl_input, lcl_X):\n",
    "        lcl_dyn_upt = self.A * lcl_X + self.B * lcl_input\n",
    "        if self.verbose>=2:\n",
    "            print(\"Dynamics Update\")\n",
    "            print(lcl_dyn_upt)\n",
    "        return(lcl_dyn_upt)\n",
    "    def update(self, lcl_input):\n",
    "        #Evolve state\n",
    "        #for current_input in input:\n",
    "        #    print (\"Current Input \")\n",
    "        #    print (current_input)\n",
    "        #    print(current_input.shape)\n",
    "\n",
    "        lcl_dyn_err = self.calc_cov(self.R)\n",
    "        if self.verbose>=2:\n",
    "            print(\"Dynamics Error\")\n",
    "            print(lcl_dyn_err)\n",
    "            \n",
    "        self.X = self.dynamics(lcl_input, self.X + lcl_dyn_err)\n",
    "            \n",
    "    def show(self):\n",
    "        print (\"Initial state\")\n",
    "        print (self.X)\n",
    "        print (\"A -- dynamics\")\n",
    "        print (self.A)\n",
    "        print (\"B -- impact of input\")\n",
    "        print (self.B)\n",
    "        print (\"R -- assumed dynamic errors\")\n",
    "        print (self.R)\n",
    "        print (\"C -- state observation model\")\n",
    "        print (self.C)\n",
    "        print (\"Q -- noise on state observation\")\n",
    "        print (self.Q)\n",
    "    def state(self):\n",
    "        #Return state, useful primarly for debugging\n",
    "        return(self.X)\n",
    "    def observe(self):\n",
    "        #Return observation, should generally be used rather than state\n",
    "        #return(self.C*self.X+self.calc_cov(self.Q)*self.flatten)\n",
    "        return(self.C*self.X+self.calc_cov(self.Q))\n",
    "\n",
    "class Kalman_Filter:\n",
    "    #Loops are done here\n",
    "    def __init__(self, lcl_Dynamic_System, lcl_Sigma_Init, lcl_X_init, lcl_R, lcl_Q, lcl_verbose=0):\n",
    "        self.Dynamic_System = lcl_Dynamic_System\n",
    "        self.Sigma = lcl_Sigma_Init\n",
    "        self.X = lcl_X_init\n",
    "        self.R = lcl_R\n",
    "        self.Q = lcl_Q\n",
    "        self.verbose = lcl_verbose\n",
    "        if self.verbose>=2:\n",
    "            print(\"Dynamic System\")\n",
    "            self.Dynamic_System.show()\n",
    "        if self.verbose>=2:\n",
    "            print(\"Kalman System\")\n",
    "            print (\"Initial State Kalman Filter\")\n",
    "            print (self.X)\n",
    "            print (\"R\")\n",
    "            print (self.R)\n",
    "            print (\"Q\")\n",
    "            print (self.Q)\n",
    "\n",
    "        \n",
    "    def update(self, lcl_input):\n",
    "\n",
    "        #Extract required info from dynamic system\n",
    "        lcl_A, lcl_B, lcl_C= self.Dynamic_System.get_dynamics()\n",
    "        \n",
    "        #Create empty vectors\n",
    "        self.X_act_hist = [self.Dynamic_System.state()]\n",
    "        self.X_filt_hist = [self.X]\n",
    "        self.K_hist = [self.Sigma]\n",
    "\n",
    "        for lcl_current_input in lcl_input:\n",
    "            if self.verbose>2:\n",
    "                print(\"Current Input\")\n",
    "                print(lcl_current_input)\n",
    "            #Evolve the actual state\n",
    "            self.Dynamic_System.update(lcl_current_input)\n",
    "\n",
    "            #Calculate Kalman filter following https://en.wikipedia.org/wiki/Kalman_filter\n",
    "\n",
    "            \n",
    "            ##Predict\n",
    "            ###Compute Predicted X  (predicted a priori state estimte)\n",
    "            lcl_X_pred = self.Dynamic_System.dynamics(lcl_current_input, self.X)\n",
    "            if self.verbose>2:\n",
    "                print (\"Predicted X\")\n",
    "                print (lcl_X_pred)\n",
    "            ####First step in covariance calculation based on dynamics and dynamics \"noise\"\n",
    "            if self.verbose>2:\n",
    "                print (\"Sigma\")\n",
    "                print (self.Sigma)\n",
    "\n",
    "            ###Compute Predicted P covariance\n",
    "            lcl_Sigma_Step_1 = lcl_A*self.Sigma*lcl_A.T+self.Q\n",
    "            if self.verbose>2:\n",
    "                print (\"Sigma First Calc\")\n",
    "                print (lcl_Sigma_Step_1)\n",
    "            \n",
    "\n",
    "            #Observe the system\n",
    "            lcl_Z = self.Dynamic_System.observe()\n",
    "            if self.verbose>1:\n",
    "                print (\"Observed Value\")\n",
    "                print (lcl_Z)\n",
    "            \n",
    "            \n",
    "            ##Update\n",
    "\n",
    "            ###Calculate innovation pre-fit residual (error)\n",
    "            lcl_Y = lcl_Z - lcl_C * lcl_X_pred\n",
    "\n",
    "            ###Calculate innovation (or pre-fit redidual) covariance\n",
    "            #self.Sigma = (sym.Matrix.eye(2)-lcl_K*lcl_C)*lcl_Sigma_Step_1\n",
    "            self.Sigma = lcl_C * lcl_Sigma_Step_1 * lcl_C.T + self.R\n",
    "            \n",
    "            #Compute the Kalman gain (used to weight observations and measurements)\n",
    "            #lcl_K = lcl_Sigma_Step_1 * lcl_C.T * (lcl_C*lcl_Sigma_Step_1*lcl_C.T + self.Q).inv()\n",
    "            lcl_K = lcl_Sigma_Step_1 * lcl_C.T * self.Sigma.inv()\n",
    "            if self.verbose>2:\n",
    "                print (\"Updated Kalman Gain\")\n",
    "                print (self.Sigma)\n",
    "                \n",
    "            ###Updated (a posteriori) state estimate\n",
    "            lcl_X_filt = lcl_X_pred + lcl_K * (lcl_Y)\n",
    "            self.X = lcl_X_filt\n",
    "            \n",
    "            ###Updated (a posterriori) estimate of covariance\n",
    "            self.Sigma = (sym.Matrix.eye(2)-lcl_K*lcl_C)*lcl_Sigma_Step_1\n",
    "            if self.verbose>1:\n",
    "                print (\"Updated Covariance\")\n",
    "                print (self.Sigma)\n",
    "            \n",
    "            #Store relevant information in a vector\n",
    "            self.X_act_hist.append(self.Dynamic_System.state())\n",
    "            self.X_filt_hist.append(lcl_X_filt)\n",
    "            self.K_hist.append(lcl_K)\n",
    "            \n",
    "        if self.verbose>=1:\n",
    "            print(\"Final Values\")\n",
    "            print_matrix(\" X                          \", self.Dynamic_System.state())\n",
    "            print_matrix(\" Kalman Estimate of State X \", lcl_X_filt)\n",
    "            print_matrix(\" Final Covariance S(igma)   \", self.Sigma)\n",
    "            print_matrix(\" Final Kalman Gains K       \", lcl_K)\n",
    "    #def show(self):\n",
    "        #for idx in range(length(self.X_act_hist)):\n",
    "        #    print(\"State\")\n",
    "        #    print(self.X_act_hist.append[idx])\n",
    "        #    print(\"Kalman Estimate\")\n",
    "        #    print(self.X_filt_hist[idx])\n",
    "        #    print(\"Kalman Gain\")\n",
    "        #    print(self.K_hist[idx])\n",
    "\n",
    "def asymptotic_kal(lcl_A=[], lcl_B=[], lcl_R=[], lcl_C=[], lcl_Q=[], lcl_verbose=0):\n",
    "    lcl_An = np.matrix(lcl_A).astype(np.float64)\n",
    "    lcl_Bn = np.matrix(lcl_B).astype(np.float64)\n",
    "    lcl_Cn = np.matrix(lcl_C).astype(np.float64)\n",
    "    lcl_Qn = np.matrix(lcl_Q).astype(np.float64)\n",
    "    lcl_Rn = np.matrix(lcl_R).astype(np.float64)\n",
    "    \n",
    "    lcl_gP = linalg.solve_discrete_are(lcl_An, lcl_Cn, lcl_Qn, lcl_Rn)\n",
    "    #Change of notation\n",
    "    #gFn1 = gA1\n",
    "    #gGn1 = gB1\n",
    "    #gHn1 = gC1\n",
    "    #gRn1 = gR11\n",
    "    lcl_K = lcl_gP*lcl_Cn.T*((lcl_Cn*lcl_gP*lcl_Cn.T + lcl_Rn).I)\n",
    "    lcl_S = lcl_gP-lcl_K*lcl_Cn*lcl_gP\n",
    "    lcl_P = lcl_An*lcl_S*lcl_An.T + lcl_Bn*lcl_Qn*lcl_Bn.T\n",
    "    if lcl_verbose>0:\n",
    "        print(\"Asymptotic Evaluation of: \")\n",
    "        print_matrix(\" Covariance Matrix S(igma) \", lcl_S)\n",
    "        print_matrix(\" Kalman Gain K             \", lcl_K)\n",
    "    return(lcl_S, lcl_K, lcl_P)\n",
    "        \n",
    "#Define a utility function to setup up consistent dynamics and Kalman Filter\n",
    "def matched_system(lcl_A=[], lcl_B=[], lcl_X=[], lcl_R=[], lcl_C=[], lcl_Q=[],  lcl_Sigma=[], lcl_verbose=0):\n",
    "    #We note that the noise for our dynamic system is defined in terms for std not var\n",
    "    lcl_R2 = np.matrix(lcl_R).astype(np.float64)\n",
    "    #look into\n",
    "    #lcl_R2 = linalg.sqrtm(lcl_R2)\n",
    "    lcl_Q2 = np.matrix(lcl_Q).astype(np.float64)\n",
    "    #lcl_Q2 = linalg.sqrtm(lcl_Q2)\n",
    "    \n",
    "    lcl_dyn_sys = Dynamic_System(lcl_X, lcl_A, lcl_B, lcl_R2, lcl_C, lcl_Q2, lcl_verbose=lcl_verbose)\n",
    "    lcl_kal = Kalman_Filter(lcl_dyn_sys, lcl_Sigma, lcl_X, lcl_R, lcl_Q, lcl_verbose=lcl_verbose)\n",
    "    asymptotic_kal(lcl_A, lcl_B, lcl_R, lcl_C, lcl_Q,  lcl_verbose)\n",
    "    return(lcl_kal)\n",
    "\n",
    "\n",
    "def repeat_input(input, times):\n",
    "    input_list = [input]\n",
    "    for idx in range(times-1):\n",
    "        input_list.append(input)\n",
    "    return(input_list)\n",
    "\n"
   ]
  },
  {
   "cell_type": "code",
   "execution_count": 73,
   "metadata": {},
   "outputs": [
    {
     "name": "stdout",
     "output_type": "stream",
     "text": [
      "(2, 1)\n",
      "Asymptotic Evaluation of: \n",
      " Covariance Matrix S(igma)  [[0.00074456 0.        ]\n",
      "                            [0.         0.00783616]]\n",
      " Kalman Gain K              [[0.18614066 0.        ]\n",
      "                            [0.         0.15672316]]\n",
      "Final Values\n",
      " X                           [[3.00606188e+02]\n",
      "                             [5.29319113e+30]]\n",
      " Kalman Estimate of State X  [[3.00601879e+02]\n",
      "                             [5.29319113e+30]]\n",
      " Final Covariance S(igma)    [[0.00074456 0.        ]\n",
      "                             [0.         0.00783616]]\n",
      " Final Kalman Gains K        [[0.18614066 0.        ]\n",
      "                             [0.         0.15672316]]\n"
     ]
    }
   ],
   "source": [
    "#This is effectively a test case, it uses unique matricies so we can make sure things actually work.\n",
    "#These are repeated to make this stand alone\n",
    "#This can be built up incrementally start with everything identity except noise which are both 0.1\n",
    "#Test case passes as of 9/8/2022\n",
    "gX_init  = sym.Matrix.zeros(2, 1)\n",
    "gSigma_Init =  sym.Matrix([[0.1, 0], [0, 0.1]])\n",
    "\n",
    "ginput_list = repeat_input(sym.Matrix([[1],  [1]]),100)\n",
    "\n",
    "#These are generally constant but also repeated to make the cell stand alone\n",
    "gA = sym.Matrix([[1, 0], [0, 2]])\n",
    "gB = sym.Matrix([[3, 0], [0, 4]])\n",
    "gC = sym.Matrix([[5, 0], [0, 6]])\n",
    "\n",
    "#These are problem to problem\n",
    "gQ = sym.Matrix([[0.01, 0], [0, 0.1]])\n",
    "gR = sym.Matrix([[0.02, 0], [0, 0.3]])\n",
    "\n",
    "#Q is observation noise\n",
    "gKal = matched_system(lcl_A=gA, lcl_B=gB, lcl_X=gX_init, lcl_R=gR, lcl_C=gC, lcl_Q=gQ, lcl_Sigma=gSigma_Init, lcl_verbose=1)\n",
    "gKal.update(ginput_list)\n",
    "#gKal.update(gsingle_input)\n",
    "#With initial definition of noise\n",
    "#0.00618\n",
    "#With sqrt"
   ]
  },
  {
   "cell_type": "markdown",
   "metadata": {},
   "source": []
  },
  {
   "cell_type": "code",
   "execution_count": 16,
   "metadata": {},
   "outputs": [
    {
     "name": "stdout",
     "output_type": "stream",
     "text": [
      "(2, 1)\n"
     ]
    }
   ],
   "source": [
    "gQ1 = gQ.subs('qx', 0).subs('qy', 0)\n",
    "gR1 = gR.subs('rx', 0).subs('ry', 0)\n",
    "gX  = sym.Matrix.zeros(2, 1)\n",
    "gDyn_sys = Dynamic_System(gX, gA, gB, gR1, gC, gQ1)\n"
   ]
  },
  {
   "cell_type": "code",
   "execution_count": 128,
   "metadata": {},
   "outputs": [],
   "source": []
  },
  {
   "cell_type": "markdown",
   "metadata": {},
   "source": [
    "No dynamic noise (dynamics are perfect) Kalman update becomes just the prediction in the limit"
   ]
  },
  {
   "cell_type": "markdown",
   "metadata": {},
   "source": [
    "Default values for next set of experiments"
   ]
  },
  {
   "cell_type": "code",
   "execution_count": 17,
   "metadata": {},
   "outputs": [],
   "source": [
    "ginput_list = repeat_input(sym.Matrix([[1],  [1]]),100)\n",
    "gsingle_input = repeat_input(sym.Matrix([[1],  [1]]),1)\n",
    "gX_init  = sym.Matrix.zeros(2, 1)\n",
    "gSigma_Init =  sym.Matrix([[.1, 0], [0, .1]])"
   ]
  },
  {
   "cell_type": "markdown",
   "metadata": {},
   "source": [
    "# Kalman Filter Impact of Noise On Gains"
   ]
  },
  {
   "cell_type": "markdown",
   "metadata": {},
   "source": [
    "In the next couple of sections we will explore what happens to the Kalman Filter with time\n",
    "\n",
    "As the Wiki points out you can express the X update in a more intuitive form\n",
    "\n",
    "$\\hat x = (I-KH)\\hat x_{k-1} + K(Hx + v)$\n",
    "\n",
    "Where we see a linear combination of the filtered state and the measured value\n",
    "\n",
    "https://en.wikipedia.org/wiki/Kalman_filter\n",
    "Equal Noise\n"
   ]
  },
  {
   "cell_type": "markdown",
   "metadata": {},
   "source": [
    "## Equal Noise"
   ]
  },
  {
   "cell_type": "code",
   "execution_count": 22,
   "metadata": {},
   "outputs": [
    {
     "name": "stdout",
     "output_type": "stream",
     "text": [
      "(2, 1)\n",
      "[[0.01618034 0.        ]\n",
      " [0.         0.01618034]]\n",
      "[[0.02618034 0.        ]\n",
      " [0.         0.02618034]]\n",
      "<class 'numpy.matrix'>\n",
      "Asymptotic Covariance Matrix\n",
      "[[0.00618034 0.        ]\n",
      " [0.         0.00618034]]\n",
      "Asymptotic Kalman Gain K \n",
      "[[0.61803399 0.        ]\n",
      " [0.         0.61803399]]\n",
      "Asymptotic P\n",
      "[[0.01618034 0.        ]\n",
      " [0.         0.01618034]]\n",
      "Final Actual State X\n",
      "Matrix([[100.428639710877], [100.428639710877]])\n",
      "Kalman Estimate of State X\n",
      "Matrix([[100.404052022898], [100.404052022898]])\n",
      "Final Covariance S(igma)\n",
      "Matrix([[0.00618033988749895, 0], [0, 0.00618033988749895]])\n",
      "Final Kalman Gains K\n",
      "Matrix([[0.618033988749895, 0], [0, 0.618033988749895]])\n"
     ]
    }
   ],
   "source": [
    "#We expect this to result in equal gains and an approximately correct prediction\n",
    "#it is only approximately correct because the noise on the state and on the observation mean we cannot extract the exact values\n",
    "#R is the dynamic noise (error)\n",
    "\n",
    "#These are repeated to make this stand alone\n",
    "gX_init  = sym.Matrix.zeros(2, 1)\n",
    "gSigma_Init =  sym.Matrix([[.1, 0], [0, .1]])\n",
    "\n",
    "ginput_list = repeat_input(sym.Matrix([[1],  [1]]),100)\n",
    "\n",
    "#These are generally constant but also repeated to make the cell stand alone\n",
    "gA = sym.Matrix([[1, 0], [0, 1]])\n",
    "gB = sym.Matrix([[1, 0], [0, 1]])\n",
    "gC = sym.Matrix([[1, 0], [0, 1]])\n",
    "\n",
    "#These are problem to problem\n",
    "gQ = sym.Matrix([[0.01, 0], [0, 0.01]])\n",
    "gR = sym.Matrix([[0.01, 0], [0, 0.01]])\n",
    "\n",
    "#Q is observation noise\n",
    "gKal = matched_system(lcl_A=gA, lcl_B=gB, lcl_X=gX_init, lcl_R=gR, lcl_C=gC, lcl_Q=gQ, lcl_Sigma=gSigma_Init, lcl_verbose=1)\n",
    "gKal.update(ginput_list)\n",
    "#gKal.update(gsingle_input)\n",
    "#With initial definition of noise\n",
    "#0.00618\n",
    "#With sqrt"
   ]
  },
  {
   "cell_type": "markdown",
   "metadata": {},
   "source": [
    "No measurement noise (measurement is perfect) Kalman update becomes filtered prediction in the limit"
   ]
  },
  {
   "cell_type": "code",
   "execution_count": 69,
   "metadata": {},
   "outputs": [
    {
     "name": "stdout",
     "output_type": "stream",
     "text": [
      "(2, 1)\n",
      "Final Actual State \n",
      "Matrix([[99.9385165642261], [99.9385165642261]])\n",
      "Kalman Estimate of State\n",
      "Matrix([[99.9385165642261], [99.9385165642261]])\n",
      "Final Covariance\n",
      "Matrix([[0, 0], [0, 0]])\n",
      "Final Kalman Gains\n",
      "Matrix([[1.00000000000000, 0], [0, 1.00000000000000]])\n"
     ]
    }
   ],
   "source": [
    "#We expect this to result in a Kalman gain of about 1 where we are just taking the measurement\n",
    "#Since there is no noise we can extract the state exactly\n",
    "#Measurement noise zero\n",
    "gQ1 = gQ.subs('qx', gDef_Noise*0.00).subs('qy', gDef_Noise*0)\n",
    "#Dynamic noise default\n",
    "gR1 = gR.subs('rx', gDef_Noise).subs('ry', gDef_Noise)\n",
    "\n",
    "gKal = matched_system(lcl_A=gA, lcl_B=gB, lcl_X=gX_init, lcl_R=gR1, lcl_C=gC, lcl_Q=gQ1, lcl_Sigma=gSigma_Init, lcl_verbose=1)\n",
    "gKal.update(ginput_list)\n"
   ]
  },
  {
   "cell_type": "code",
   "execution_count": 70,
   "metadata": {},
   "outputs": [
    {
     "name": "stdout",
     "output_type": "stream",
     "text": [
      "(2, 1)\n",
      "Final Actual State \n",
      "Matrix([[99.9385165642261], [100]])\n",
      "Kalman Estimate of State\n",
      "Matrix([[99.9385165642261], [99.9996330418354]])\n",
      "Final Covariance\n",
      "Matrix([[0, 0], [0, 9.99000999000999e-5]])\n",
      "Final Kalman Gains\n",
      "Matrix([[1.00000000000000, 0], [0, 0.00999000999000999]])\n"
     ]
    }
   ],
   "source": [
    "#Here we make the first state perfectly observable and the second not\n",
    "#The dyamic error on the first state is not zero, but on the second state it is\n",
    "#Here we see the expected first state with very high Kalman gain and the second with very low\n",
    "gQ1 = gQ.subs('qx', gDef_Noise*0.00).subs('qy', gDef_Noise)\n",
    "#Dynamic noise default\n",
    "gR1 = gR.subs('rx', gDef_Noise).subs('ry', gDef_Noise*0)\n",
    "\n",
    "gKal = matched_system(lcl_A=gA, lcl_B=gB, lcl_X=gX_init, lcl_R=gR1, lcl_C=gC, lcl_Q=gQ1, lcl_Sigma=gSigma_Init, lcl_verbose=1)\n",
    "gKal.update(ginput_list)\n"
   ]
  },
  {
   "cell_type": "markdown",
   "metadata": {},
   "source": [
    "There is of course a mathematical issue if all the noise is zero.  The Kalman gain is the inverse of $C*S*C^T+Q$ clearly if the Kalman gain is singular the first term can become singular.  However, only if the assumed measurement noise is singular will the whole expression be guaranteed to be singular.  If the measurement noise is zero you DON'T need a Kalman filter.  The obvious answer is the state is the measurement."
   ]
  },
  {
   "cell_type": "code",
   "execution_count": 71,
   "metadata": {},
   "outputs": [
    {
     "name": "stdout",
     "output_type": "stream",
     "text": [
      "(2, 1)\n",
      "Final Actual State \n",
      "Matrix([[1], [1]])\n",
      "Kalman Estimate of State\n",
      "Matrix([[1], [1]])\n",
      "Final Covariance\n",
      "Matrix([[0, 0], [0, 0]])\n",
      "Final Kalman Gains\n",
      "Matrix([[1.00000000000000, 0], [0, 1.00000000000000]])\n"
     ]
    }
   ],
   "source": [
    "gQ1 = gQ.subs('qx', gDef_Noise*0.00).subs('qy', gDef_Noise*0.0)\n",
    "#Dynamic noise default\n",
    "gR1 = gR.subs('rx', gDef_Noise*0.0).subs('ry', gDef_Noise*0)\n",
    "\n",
    "gKal = matched_system(lcl_A=gA, lcl_B=gB, lcl_X=gX_init, lcl_R=gR1, lcl_C=gC, lcl_Q=gQ1, lcl_Sigma=gSigma_Init, lcl_verbose=1)\n",
    "gKal.update(gsingle_input)\n"
   ]
  },
  {
   "cell_type": "markdown",
   "metadata": {},
   "source": [
    "One other thing to look at is what the covariance converges to.  Given noise of 0.01 "
   ]
  },
  {
   "cell_type": "code",
   "execution_count": 74,
   "metadata": {},
   "outputs": [
    {
     "name": "stdout",
     "output_type": "stream",
     "text": [
      "(2, 1)\n",
      "Final Actual State \n",
      "Matrix([[99.9385165642261], [99.9385165642261]])\n",
      "Kalman Estimate of State\n",
      "Matrix([[99.9509629226324], [99.9509629226324]])\n",
      "Final Covariance\n",
      "Matrix([[0.00618033988749895, 0], [0, 0.00618033988749895]])\n",
      "Final Kalman Gains\n",
      "Matrix([[0.618033988749895, 0], [0, 0.618033988749895]])\n"
     ]
    }
   ],
   "source": [
    "gR1 = gR.subs('rx', gDef_Noise).subs('ry', gDef_Noise)\n",
    "#Q is observation noise\n",
    "gQ1 = gQ.subs('qx', gDef_Noise).subs('qy', gDef_Noise)\n",
    "gKal = matched_system(lcl_A=gA, lcl_B=gB, lcl_X=gX_init, lcl_R=gR1, lcl_C=gC, lcl_Q=gQ1, lcl_Sigma=gSigma_Init, lcl_verbose=1)\n",
    "gKal.update(ginput_list)"
   ]
  },
  {
   "cell_type": "code",
   "execution_count": 75,
   "metadata": {},
   "outputs": [
    {
     "name": "stdout",
     "output_type": "stream",
     "text": [
      "(2, 1)\n",
      "Final Actual State \n",
      "Matrix([[1.09417154046807], [1.09417154046807]])\n",
      "Kalman Estimate of State\n",
      "Matrix([[0.970914126950111], [0.970914126950111]])\n",
      "Final Covariance\n",
      "Matrix([[0.0666666666666667, 0], [0, 0.0666666666666667]])\n",
      "Final Kalman Gains\n",
      "Matrix([[0.666666666666667, 0], [0, 0.666666666666667]])\n"
     ]
    }
   ],
   "source": [
    "gQ1 = gQ.subs('qx', gDef_Noise*10).subs('qy', gDef_Noise*10)\n",
    "#Dynamic noise default\n",
    "gR1 = gR.subs('rx', gDef_Noise*10).subs('ry', gDef_Noise*10)\n",
    "gKal = matched_system(lcl_A=gA, lcl_B=gB, lcl_X=gX_init, lcl_R=gR1, lcl_C=gC, lcl_Q=gQ1, lcl_Sigma=gSigma_Init, lcl_verbose=1)\n",
    "gKal.update(gsingle_input)"
   ]
  },
  {
   "cell_type": "markdown",
   "metadata": {},
   "source": [
    "What about steady state convergence (note this is another common notation where W=R and V=Q, note we don't need the B matrix here\n",
    "\n",
    "$\\Sigma_{t+1} =A\\Sigma A^T + W - A\\Sigma C^T(C\\Sigma C^T+V)^{-1}C\\Sigma A^T$\n",
    "\n",
    "https://docs.scipy.org/doc/scipy/reference/generated/scipy.linalg.solve_discrete_are.html\n",
    "\n",
    "$A\\Sigma A^T - \\Sigma + W - A\\Sigma C^T(C\\Sigma C^T+V)^{-1}C\\Sigma A^T$\n",
    "\n",
    "or from\n",
    "\n",
    "$A^HXA - X - A^HXB(R+B^HXB)^{-1}(B^HXA)+ Q$\n",
    "\n",
    "Clearly X=Sigma A=A B=C R=R and Q=Q\n",
    "\n",
    "https://laurentlessard.com/teaching/me7247/lectures/lecture%2012%20-%20steady-state%20Kalman%20filter.pdf\n",
    "\n",
    "From SciPy\n",
    "\n",
    "\n",
    "https://ocw.mit.edu/courses/2-160-identification-estimation-and-learning-spring-2006/825d8851ab6950cebfab991c3e435f90_lecture_7.pdf\n",
    "\n",
    "scipy.linalg.solve_discrete_are(a, b, q, r)[source]¶\n",
    "\n",
    "\n",
    "So it seems like we should be able to predetermine the value of the Kalman filter, that should also be a check on our implementation see https://stanford.edu/class/ee363/lectures/kf.pdf\n",
    "\n",
    "Indeed this is the case \n",
    "\n",
    "$\\Sigma_x=A \\Sigma_x A^T + B \\Sigma_u B^T$\n",
    "\n",
    "Scipi provides the solution to continious lyapunov equation\n",
    "\n",
    "$AX + XA^H = Q$\n",
    "\n",
    "Scipi provides the solution to and the discrete \n",
    "\n",
    "$AXA^H -X + Q = 0$\n",
    "https://docs.scipy.org/doc/scipy/reference/generated/scipy.linalg.solve_discrete_lyapunov.html#scipy.linalg.solve_discrete_lyapunov\n",
    "\n",
    "\n",
    "\n",
    "To make these equivalent we use\n",
    "$-A^{-1} \\Sigma_x + \\Sigma_x A^T = -A^{-1}*B*\\Sigma_u*B^T$\n",
    "\n",
    "Convieniently with our A and B both identities\n",
    "$\\Sigma_x + \\Sigma_x = \\Sigma_u$\n",
    "\n",
    "\n",
    "https://spinlab.wpi.edu/courses/ece531_2013/7-5ss_kf_performance.pdf\n",
    "\n",
    "https://spinlab.wpi.edu/courses/ece531_2013/7-5ss_kf_performance.pdf\n",
    "\n",
    "\n",
    "$K = PH^T(HPH^T + R)^{-1}$\n",
    "\n",
    "$S = P - KHP$\n"
   ]
  },
  {
   "cell_type": "code",
   "execution_count": 10,
   "metadata": {},
   "outputs": [
    {
     "name": "stdout",
     "output_type": "stream",
     "text": [
      "[[1. 0.]\n",
      " [0. 1.]]\n",
      "[[0.01 0.  ]\n",
      " [0.   0.01]]\n",
      "[[1. 0.]\n",
      " [0. 1.]]\n",
      "[[1. 0.]\n",
      " [0. 1.]]\n",
      "[[0.01 0.  ]\n",
      " [0.   0.01]]\n",
      "[[0.01 0.  ]\n",
      " [0.   0.01]]\n",
      "d1\n",
      "[[0.01618034 0.        ]\n",
      " [0.         0.01618034]]\n",
      "<class 'numpy.matrix'>\n",
      "d2\n",
      "[[0.02618034 0.        ]\n",
      " [0.         0.02618034]]\n",
      "K\n",
      "[[0.61803399 0.        ]\n",
      " [0.         0.61803399]]\n",
      "S\n",
      "[[0.00618034 0.        ]\n",
      " [0.         0.00618034]]\n",
      "P\n",
      "[[0.01618034 0.        ]\n",
      " [0.         0.01618034]]\n"
     ]
    }
   ],
   "source": [
    "gQ11 = np.matrix(gQ.subs('qx', gDef_Noise).subs('qy', gDef_Noise)).astype(np.float64)\n",
    "gR11 = np.matrix(gR.subs('rx', gDef_Noise).subs('ry', gDef_Noise)).astype(np.float64)\n",
    "gA1 = np.matrix(gA).astype(np.float64)\n",
    "gB1 = np.matrix(gB).astype(np.float64)\n",
    "gC1 = np.matrix(gC).astype(np.float64)\n",
    "print(gA1)\n",
    "print(gQ11)\n",
    "#gCL=linalg.solve_continuous_lyapunov(gA1, gQ11)\n",
    "#gDL=linalg.solve_discrete_lyapunov(gA1, gQ11, 'bilinear')\n",
    "print(gA1)\n",
    "print(gC1)\n",
    "print(gQ11)\n",
    "print(gR11)\n",
    "gP = linalg.solve_discrete_are(gA1, gC1, gQ11, gR11)\n",
    "#Change of notation\n",
    "gFn1 = gA1\n",
    "gGn1 = gB1\n",
    "gHn1 = gC1\n",
    "gRn1 = gR11\n",
    "gQn1 = gQ11\n",
    "gK = gP*gHn1.T*((gHn1*gP*gHn1.T + gRn1).I)\n",
    "print(\"d1\")\n",
    "print(gP*gHn1.T)\n",
    "print(type(gP*gHn1.T))\n",
    "print(\"d2\")\n",
    "print(gHn1*gP*gHn1.T + gRn1)\n",
    "gS = gP-gK*gHn1*gP\n",
    "gP = gFn1*gS*gFn1.T + gGn1*gQn1*gGn1.T\n",
    "\n",
    "print(\"K\")\n",
    "print(gK)\n",
    "print(\"S\")\n",
    "print(gS)\n",
    "print(\"P\")\n",
    "print(gP)\n"
   ]
  },
  {
   "cell_type": "code",
   "execution_count": null,
   "metadata": {},
   "outputs": [],
   "source": []
  },
  {
   "cell_type": "code",
   "execution_count": 96,
   "metadata": {},
   "outputs": [
    {
     "name": "stdout",
     "output_type": "stream",
     "text": [
      "(2, 1)\n",
      "Final Actual State \n",
      "Matrix([[99.9385165642261], [99.9385165642261]])\n",
      "Kalman Estimate of State\n",
      "Matrix([[99.9509629226324], [99.9509629226324]])\n",
      "Final Covariance\n",
      "Matrix([[0.00618033988749895, 0], [0, 0.00618033988749895]])\n",
      "Final Kalman Gains\n",
      "Matrix([[0.618033988749895, 0], [0, 0.618033988749895]])\n"
     ]
    }
   ],
   "source": [
    "gSigma_Init =  sym.Matrix([[0.005, 0], [0, 0.005]])\n",
    "gQ1 = gQ.subs('qx', gDef_Noise).subs('qy', gDef_Noise)\n",
    "#Dynamic noise default\n",
    "gR1 = gR.subs('rx', gDef_Noise).subs('ry', gDef_Noise)\n",
    "gKal = matched_system(lcl_A=gA, lcl_B=gB, lcl_X=gX_init, lcl_R=gR1, lcl_C=gC, lcl_Q=gQ1, lcl_Sigma=gSigma_Init, lcl_verbose=1)\n",
    "gKal.update(ginput_list)"
   ]
  },
  {
   "cell_type": "markdown",
   "metadata": {},
   "source": [
    "Come back to this it mentions adjoint method so interesting to see what adjoint means here\n",
    "https://byjus.com/maths/symmetric-matrix/#:~:text=Some%20of%20the%20symmetric%20matrix%20properties%20are%20given,inverse%20of%20a%20transpose%20matrix.%20More%20items...%20 "
   ]
  },
  {
   "cell_type": "code",
   "execution_count": null,
   "metadata": {},
   "outputs": [],
   "source": []
  }
 ],
 "metadata": {
  "kernelspec": {
   "display_name": "Python 3",
   "language": "python",
   "name": "python3"
  },
  "language_info": {
   "codemirror_mode": {
    "name": "ipython",
    "version": 3
   },
   "file_extension": ".py",
   "mimetype": "text/x-python",
   "name": "python",
   "nbconvert_exporter": "python",
   "pygments_lexer": "ipython3",
   "version": "3.7.1"
  }
 },
 "nbformat": 4,
 "nbformat_minor": 2
}
